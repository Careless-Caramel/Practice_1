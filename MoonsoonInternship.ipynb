{
  "nbformat": 4,
  "nbformat_minor": 0,
  "metadata": {
    "colab": {
      "name": "MoonsoonInternship.ipynb",
      "provenance": [],
      "collapsed_sections": []
    },
    "kernelspec": {
      "name": "python3",
      "display_name": "Python 3"
    },
    "language_info": {
      "name": "python"
    }
  },
  "cells": [
    {
      "cell_type": "markdown",
      "metadata": {
        "id": "TOl2wNFp2VL7"
      },
      "source": [
        "#**CLASS 1** (26th June 2021)\n",
        "\n",
        "- **Basics** \n",
        "\n",
        "      **Deep Learning**\n",
        "        - Learn from experiences over large data set.\n",
        "        - Real dataset and world data available to us.\n",
        "        - Prediction basis.\n",
        "        - We create/deploy a model which can predit the results based on its learned perspectives.\n",
        "        - Concepts in DL\n",
        "          1.Data\n",
        "            -can be image,audo,video,text.\n",
        "            -Dataset:Contains whole data\n",
        "              a.Training data\n",
        "                Used to train the model,model learns using this data.\n",
        "              b.Validation data\n",
        "                Provides an unbiased data\n",
        "              c.Testing data\n",
        "          2.Task\n",
        "            - Image Classification\n",
        "            - Regression\n",
        "            - Sequence classification\n",
        "                a.Video classification\n",
        "                b.Audio classification\n",
        "                c.Part of speech tag classification.\n",
        "          3.Model\n",
        "            - Output is a function of input.\n",
        "          3.Loss\n",
        "            - Measures how your models performs.\n",
        "            - Common ones are squared error loss and cross entropy loss.\n",
        "          4.Evaluation\n",
        "            - Computes the accuracy of the model.\n",
        "            - Helps in deciding if you should train more or finalise.\n",
        "- **Tools for machine learning:**\n",
        "  - Local machine\n",
        "  - Cloud training"
      ]
    },
    {
      "cell_type": "markdown",
      "metadata": {
        "id": "11mmwEGRJ_Bb"
      },
      "source": [
        "##Basics of Python.....\n",
        "  - Print statement\n",
        "  - Strings\n",
        "  - Arithmatic/Logical Operators\n",
        "  - Conditions\n",
        "  - Functions\n",
        "  - Lists\n",
        "  - Tuples\n",
        "  - Dictionary\n",
        "  - Class\n"
      ]
    },
    {
      "cell_type": "code",
      "metadata": {
        "colab": {
          "base_uri": "https://localhost:8080/"
        },
        "id": "PeUY21tLQxme",
        "outputId": "3b5726d8-3452-480a-c8a4-60b5991908ec"
      },
      "source": [
        "from google.colab import drive\n",
        "drive.mount('/content/gdrive')"
      ],
      "execution_count": 76,
      "outputs": [
        {
          "output_type": "stream",
          "text": [
            "Mounted at /content/gdrive\n"
          ],
          "name": "stdout"
        }
      ]
    },
    {
      "cell_type": "code",
      "metadata": {
        "id": "E0WBGFnL2Tbu",
        "colab": {
          "base_uri": "https://localhost:8080/"
        },
        "outputId": "a6ead989-6b3c-4c77-cb09-68658ab0b41f"
      },
      "source": [
        "\"\"\"\n",
        "This is used.....           #documented string\n",
        "\"\"\"\n",
        "x=10\n",
        "print(f'x={x}')"
      ],
      "execution_count": 77,
      "outputs": [
        {
          "output_type": "stream",
          "text": [
            "x=10\n"
          ],
          "name": "stdout"
        }
      ]
    },
    {
      "cell_type": "markdown",
      "metadata": {
        "id": "ck8ERkW0UutD"
      },
      "source": [
        "###If Condition"
      ]
    },
    {
      "cell_type": "code",
      "metadata": {
        "id": "-Imq5p615gn4",
        "colab": {
          "base_uri": "https://localhost:8080/"
        },
        "outputId": "9c758b71-368b-4d43-fa64-cfbfd907f4e9"
      },
      "source": [
        "name =str(input(\"Enter your name : \"))\n",
        "is_rainy=float(input(\"Enter temp : \"))\n",
        "\n",
        "if is_rainy==10:\n",
        "  print(\"Hey \"+str(name) + \"!!!Have a rainy day!!!\")\n",
        "  print(f'The temp is : {is_rainy}')\n",
        "  print(\"Continuing to print inside the if block...\")\n",
        "elif is_rainy==20:\n",
        "  print(\"Printing this outside the block!!!\")\n",
        "else:\n",
        "  print(\"Blah\")"
      ],
      "execution_count": 79,
      "outputs": [
        {
          "output_type": "stream",
          "text": [
            "Enter your name : aa\n",
            "Enter temp : 3\n",
            "Blah\n"
          ],
          "name": "stdout"
        }
      ]
    },
    {
      "cell_type": "markdown",
      "metadata": {
        "id": "ApGtaVtRUqO0"
      },
      "source": [
        "###While Condition"
      ]
    },
    {
      "cell_type": "code",
      "metadata": {
        "id": "fkFjpWis5gk_",
        "colab": {
          "base_uri": "https://localhost:8080/"
        },
        "outputId": "a7651b28-7681-4e56-cc6e-cac76e2ca621"
      },
      "source": [
        "\n",
        "i=0\n",
        "while i<5:\n",
        "  print(i)\n",
        "  i+=1  #i-i+1<==>i+=i"
      ],
      "execution_count": null,
      "outputs": [
        {
          "output_type": "stream",
          "text": [
            "0\n",
            "1\n",
            "2\n",
            "3\n",
            "4\n"
          ],
          "name": "stdout"
        }
      ]
    },
    {
      "cell_type": "markdown",
      "metadata": {
        "id": "GHi-O_KzUnZW"
      },
      "source": [
        "###Time "
      ]
    },
    {
      "cell_type": "code",
      "metadata": {
        "id": "IOb4Yy3H5ghn",
        "colab": {
          "base_uri": "https://localhost:8080/"
        },
        "outputId": "636b3a38-01e3-436a-bae0-a82a6ab61a56"
      },
      "source": [
        "import time\n",
        "tic=time.time()\n",
        "print(tic)"
      ],
      "execution_count": null,
      "outputs": [
        {
          "output_type": "stream",
          "text": [
            "1624708566.7677648\n"
          ],
          "name": "stdout"
        }
      ]
    },
    {
      "cell_type": "code",
      "metadata": {
        "colab": {
          "base_uri": "https://localhost:8080/"
        },
        "id": "Wt1KeIyKLWfA",
        "outputId": "84aa97ec-afe5-45f3-e16f-7ac5e0c6a819"
      },
      "source": [
        "my_list=list(range(0,10))\n",
        "tic=time.time()\n",
        "for i in my_list:\n",
        "  print(i)\n",
        "  time.sleep(1)"
      ],
      "execution_count": null,
      "outputs": [
        {
          "output_type": "stream",
          "text": [
            "0\n",
            "1\n",
            "2\n",
            "3\n",
            "4\n",
            "5\n",
            "6\n",
            "7\n",
            "8\n",
            "9\n"
          ],
          "name": "stdout"
        }
      ]
    },
    {
      "cell_type": "markdown",
      "metadata": {
        "id": "n4DP4RluUe4C"
      },
      "source": [
        "###Dictionary"
      ]
    },
    {
      "cell_type": "code",
      "metadata": {
        "id": "acnPrn6yMNR4"
      },
      "source": [
        "x={\"Name\":32,\"RollNo\":13,\"Mobile Number\":1234566}"
      ],
      "execution_count": null,
      "outputs": []
    },
    {
      "cell_type": "code",
      "metadata": {
        "colab": {
          "base_uri": "https://localhost:8080/"
        },
        "id": "6dKRwTZmOCyC",
        "outputId": "ce1e052f-c771-46d7-88f8-73fb9baafeee"
      },
      "source": [
        "x.keys()"
      ],
      "execution_count": null,
      "outputs": [
        {
          "output_type": "execute_result",
          "data": {
            "text/plain": [
              "dict_keys(['Name', 'RollNo', 'Mobile Number'])"
            ]
          },
          "metadata": {
            "tags": []
          },
          "execution_count": 107
        }
      ]
    },
    {
      "cell_type": "code",
      "metadata": {
        "colab": {
          "base_uri": "https://localhost:8080/"
        },
        "id": "I8pZHz7VOW6H",
        "outputId": "75c72e0c-9c1a-44ce-8d63-b49d8d604cc8"
      },
      "source": [
        "x.values()"
      ],
      "execution_count": null,
      "outputs": [
        {
          "output_type": "execute_result",
          "data": {
            "text/plain": [
              "dict_values([32, 13, 1234566])"
            ]
          },
          "metadata": {
            "tags": []
          },
          "execution_count": 108
        }
      ]
    },
    {
      "cell_type": "code",
      "metadata": {
        "colab": {
          "base_uri": "https://localhost:8080/"
        },
        "id": "Z_rI-IvDOJCO",
        "outputId": "aed62584-c03d-4f06-aaac-2ae1831d9689"
      },
      "source": [
        "import yaml\n",
        "print(yaml.dump(x))"
      ],
      "execution_count": null,
      "outputs": [
        {
          "output_type": "stream",
          "text": [
            "{Mobile Number: 1234566, Name: 32, RollNo: 13}\n",
            "\n"
          ],
          "name": "stdout"
        }
      ]
    },
    {
      "cell_type": "markdown",
      "metadata": {
        "id": "sumoUmtHUWY7"
      },
      "source": [
        "###File Operations"
      ]
    },
    {
      "cell_type": "code",
      "metadata": {
        "id": "itbtQrAFNP15"
      },
      "source": [
        "file=open(\"/content/bmt.csv\",r\")"
      ],
      "execution_count": null,
      "outputs": []
    },
    {
      "cell_type": "code",
      "metadata": {
        "colab": {
          "base_uri": "https://localhost:8080/"
        },
        "id": "iHCVCn1mNThZ",
        "outputId": "6ec5f459-79fd-4269-beb6-d9a818079819"
      },
      "source": [
        "s=file.readline()\n",
        "print(s)"
      ],
      "execution_count": null,
      "outputs": [
        {
          "output_type": "stream",
          "text": [
            "Group,T,Status\n",
            "\n"
          ],
          "name": "stdout"
        }
      ]
    },
    {
      "cell_type": "code",
      "metadata": {
        "colab": {
          "base_uri": "https://localhost:8080/"
        },
        "id": "E8_Rno6pNu-y",
        "outputId": "1c1b9293-032f-4d46-da13-3c322e4b0aab"
      },
      "source": [
        "print(s.split(\",\"))"
      ],
      "execution_count": null,
      "outputs": [
        {
          "output_type": "stream",
          "text": [
            "['Group', 'T', 'Status\\n']\n"
          ],
          "name": "stdout"
        }
      ]
    },
    {
      "cell_type": "markdown",
      "metadata": {
        "id": "XBGkqjhwUSv9"
      },
      "source": [
        "###Classes"
      ]
    },
    {
      "cell_type": "code",
      "metadata": {
        "id": "lbFWXK_GO2sU"
      },
      "source": [
        "class Temp:\n",
        "  def __init__(self,a=0,b=0):\n",
        "    self.a=a\n",
        "    self.b=b\n",
        "\n",
        "  def add(self):\n",
        "      print(self.a + self.b)"
      ],
      "execution_count": null,
      "outputs": []
    },
    {
      "cell_type": "code",
      "metadata": {
        "colab": {
          "base_uri": "https://localhost:8080/"
        },
        "id": "xRmno9g1PaAN",
        "outputId": "c69fb5ca-1398-487f-8961-8f90a2da8509"
      },
      "source": [
        "t1=Temp(10,100)\n",
        "t1.add()"
      ],
      "execution_count": null,
      "outputs": [
        {
          "output_type": "stream",
          "text": [
            "110\n"
          ],
          "name": "stdout"
        }
      ]
    },
    {
      "cell_type": "code",
      "metadata": {
        "id": "OO4yy4h2QHKO"
      },
      "source": [
        "class Temp2(Temp):\n",
        "  def __init(self):\n",
        "    super().__init__(a,b)\n",
        "  def dub(self):\n",
        "    print(self.a - self.b)"
      ],
      "execution_count": null,
      "outputs": []
    },
    {
      "cell_type": "code",
      "metadata": {
        "colab": {
          "base_uri": "https://localhost:8080/"
        },
        "id": "TdrdD823RqMJ",
        "outputId": "90979298-2e6e-4384-a83d-311915f665cb"
      },
      "source": [
        "t1=Temp2(10,20)\n",
        "t1.add()\n",
        "t1.dub()\n"
      ],
      "execution_count": null,
      "outputs": [
        {
          "output_type": "stream",
          "text": [
            "30\n",
            "-10\n"
          ],
          "name": "stdout"
        }
      ]
    },
    {
      "cell_type": "markdown",
      "metadata": {
        "id": "KRNv1gAsHakH"
      },
      "source": [
        "#**CLASS 2** (27th June 2021)\n",
        "- Deep Learning Python packages:\n",
        " - Numpy\n",
        " \n"
      ]
    },
    {
      "cell_type": "markdown",
      "metadata": {
        "id": "JydbyJD5EQQP"
      },
      "source": [
        "##1. Numpy"
      ]
    },
    {
      "cell_type": "markdown",
      "metadata": {
        "id": "mZOoEdIJHGSD"
      },
      "source": [
        "###Arrays"
      ]
    },
    {
      "cell_type": "markdown",
      "metadata": {
        "id": "0geStX7vHH0J"
      },
      "source": [
        "####Creating array"
      ]
    },
    {
      "cell_type": "code",
      "metadata": {
        "id": "ZtRkH-LvET3Z"
      },
      "source": [
        "import numpy as np    #data structure processing"
      ],
      "execution_count": 2,
      "outputs": []
    },
    {
      "cell_type": "code",
      "metadata": {
        "id": "KyMIoq_v5gf6",
        "colab": {
          "base_uri": "https://localhost:8080/"
        },
        "outputId": "41aab72a-2b27-4cd3-e658-bdc96f411e0a"
      },
      "source": [
        "lid=[1,2,3,4,5]\n",
        "type(lid)"
      ],
      "execution_count": 3,
      "outputs": [
        {
          "output_type": "execute_result",
          "data": {
            "text/plain": [
              "list"
            ]
          },
          "metadata": {
            "tags": []
          },
          "execution_count": 3
        }
      ]
    },
    {
      "cell_type": "code",
      "metadata": {
        "id": "JhxgCSwY5gPm",
        "colab": {
          "base_uri": "https://localhost:8080/"
        },
        "outputId": "483beefa-e7d3-44c1-d55e-ba874f4c1ea6"
      },
      "source": [
        "x=np.asarray(lid)   #np.array(lid)\n",
        "type(x)"
      ],
      "execution_count": 5,
      "outputs": [
        {
          "output_type": "execute_result",
          "data": {
            "text/plain": [
              "numpy.ndarray"
            ]
          },
          "metadata": {
            "tags": []
          },
          "execution_count": 5
        }
      ]
    },
    {
      "cell_type": "code",
      "metadata": {
        "id": "OBa3vSi9Dep0",
        "colab": {
          "base_uri": "https://localhost:8080/"
        },
        "outputId": "1ec7b4ae-6d9e-4901-c8d0-9343b81dc485"
      },
      "source": [
        "print(x)"
      ],
      "execution_count": 6,
      "outputs": [
        {
          "output_type": "stream",
          "text": [
            "[1 2 3 4 5]\n"
          ],
          "name": "stdout"
        }
      ]
    },
    {
      "cell_type": "code",
      "metadata": {
        "colab": {
          "base_uri": "https://localhost:8080/"
        },
        "id": "nsSETE4pEvkq",
        "outputId": "23766d51-4e90-49d9-dedc-7bccc11f96a9"
      },
      "source": [
        "x=np.asarray(lid,float)   #type conversion\n",
        "type(x)"
      ],
      "execution_count": 11,
      "outputs": [
        {
          "output_type": "execute_result",
          "data": {
            "text/plain": [
              "numpy.ndarray"
            ]
          },
          "metadata": {
            "tags": []
          },
          "execution_count": 11
        }
      ]
    },
    {
      "cell_type": "code",
      "metadata": {
        "colab": {
          "base_uri": "https://localhost:8080/"
        },
        "id": "k2E2644ZE1Jp",
        "outputId": "a5d2716f-4307-4ebc-b484-21b579b64f36"
      },
      "source": [
        "print(x)"
      ],
      "execution_count": 12,
      "outputs": [
        {
          "output_type": "stream",
          "text": [
            "[1. 2. 3. 4. 5.]\n"
          ],
          "name": "stdout"
        }
      ]
    },
    {
      "cell_type": "code",
      "metadata": {
        "colab": {
          "base_uri": "https://localhost:8080/"
        },
        "id": "uhpXmQIrE4ki",
        "outputId": "7abf991f-84a1-4ad5-ce73-9587d5fd8856"
      },
      "source": [
        "l2d=[[1,2,3],\n",
        "     [3,5,6]]\n",
        "type(l2d)"
      ],
      "execution_count": 13,
      "outputs": [
        {
          "output_type": "execute_result",
          "data": {
            "text/plain": [
              "list"
            ]
          },
          "metadata": {
            "tags": []
          },
          "execution_count": 13
        }
      ]
    },
    {
      "cell_type": "code",
      "metadata": {
        "colab": {
          "base_uri": "https://localhost:8080/"
        },
        "id": "HZtfxXlhFe_X",
        "outputId": "a4ed19f3-e21c-43f6-ef22-2eb582637172"
      },
      "source": [
        "print(l2d)"
      ],
      "execution_count": 14,
      "outputs": [
        {
          "output_type": "stream",
          "text": [
            "[[1, 2, 3], [3, 5, 6]]\n"
          ],
          "name": "stdout"
        }
      ]
    },
    {
      "cell_type": "code",
      "metadata": {
        "colab": {
          "base_uri": "https://localhost:8080/"
        },
        "id": "uplfRfi4Fg1V",
        "outputId": "9fe4fd42-56bb-4840-e054-da63a49c0bcb"
      },
      "source": [
        "x=np.asarray(l2d) #2d array\n",
        "print(type(x))\n",
        "x.shape           #(row,column)inbuilt function"
      ],
      "execution_count": 15,
      "outputs": [
        {
          "output_type": "stream",
          "text": [
            "<class 'numpy.ndarray'>\n"
          ],
          "name": "stdout"
        },
        {
          "output_type": "execute_result",
          "data": {
            "text/plain": [
              "(2, 3)"
            ]
          },
          "metadata": {
            "tags": []
          },
          "execution_count": 15
        }
      ]
    },
    {
      "cell_type": "code",
      "metadata": {
        "colab": {
          "base_uri": "https://localhost:8080/"
        },
        "id": "2QSTEiIoFxYi",
        "outputId": "4a943d41-a24e-48b8-8eb1-8a526c44c786"
      },
      "source": [
        "print(x)"
      ],
      "execution_count": 17,
      "outputs": [
        {
          "output_type": "stream",
          "text": [
            "[[1 2 3]\n",
            " [3 5 6]]\n"
          ],
          "name": "stdout"
        }
      ]
    },
    {
      "cell_type": "code",
      "metadata": {
        "colab": {
          "base_uri": "https://localhost:8080/"
        },
        "id": "ZQ8FXPJRGNqv",
        "outputId": "65e8cdcc-ca91-4aff-a62f-81f1ed4b3376"
      },
      "source": [
        "x[0,2]"
      ],
      "execution_count": 19,
      "outputs": [
        {
          "output_type": "execute_result",
          "data": {
            "text/plain": [
              "3"
            ]
          },
          "metadata": {
            "tags": []
          },
          "execution_count": 19
        }
      ]
    },
    {
      "cell_type": "markdown",
      "metadata": {
        "id": "yuU-PHFdGxt2"
      },
      "source": [
        "####Array slicing"
      ]
    },
    {
      "cell_type": "code",
      "metadata": {
        "id": "ZxHRn7NQGVHd"
      },
      "source": [
        "s=[1,2,3,4,4]"
      ],
      "execution_count": 20,
      "outputs": []
    },
    {
      "cell_type": "code",
      "metadata": {
        "colab": {
          "base_uri": "https://localhost:8080/"
        },
        "id": "jsWZJHF8Gaug",
        "outputId": "2fbbbef6-0d8c-4d17-e849-500a4df3d45b"
      },
      "source": [
        "print(s[:])"
      ],
      "execution_count": 21,
      "outputs": [
        {
          "output_type": "stream",
          "text": [
            "[1, 2, 3, 4, 4]\n"
          ],
          "name": "stdout"
        }
      ]
    },
    {
      "cell_type": "code",
      "metadata": {
        "colab": {
          "base_uri": "https://localhost:8080/"
        },
        "id": "Z-KORsQsGcoM",
        "outputId": "febd597e-6572-47c7-90c8-56e687a57b32"
      },
      "source": [
        "print(x)"
      ],
      "execution_count": 22,
      "outputs": [
        {
          "output_type": "stream",
          "text": [
            "[[1 2 3]\n",
            " [3 5 6]]\n"
          ],
          "name": "stdout"
        }
      ]
    },
    {
      "cell_type": "code",
      "metadata": {
        "colab": {
          "base_uri": "https://localhost:8080/"
        },
        "id": "RGzpQoypGeJf",
        "outputId": "9ccafef2-9a85-4bbe-e201-6cde03ca3ed0"
      },
      "source": [
        "x[:,:]"
      ],
      "execution_count": 26,
      "outputs": [
        {
          "output_type": "execute_result",
          "data": {
            "text/plain": [
              "array([[1, 2, 3],\n",
              "       [3, 5, 6]])"
            ]
          },
          "metadata": {
            "tags": []
          },
          "execution_count": 26
        }
      ]
    },
    {
      "cell_type": "code",
      "metadata": {
        "colab": {
          "base_uri": "https://localhost:8080/"
        },
        "id": "nPE6iaDAGhah",
        "outputId": "b67a3da1-9085-44dd-aa49-7b2ead5c168b"
      },
      "source": [
        "x[:,1]"
      ],
      "execution_count": 27,
      "outputs": [
        {
          "output_type": "execute_result",
          "data": {
            "text/plain": [
              "array([2, 5])"
            ]
          },
          "metadata": {
            "tags": []
          },
          "execution_count": 27
        }
      ]
    },
    {
      "cell_type": "markdown",
      "metadata": {
        "id": "hO9jy66MG-xn"
      },
      "source": [
        "####Zero Matrix"
      ]
    },
    {
      "cell_type": "code",
      "metadata": {
        "id": "iumMNTogGvWp"
      },
      "source": [
        "x=np.eye(4,4)"
      ],
      "execution_count": 28,
      "outputs": []
    },
    {
      "cell_type": "code",
      "metadata": {
        "colab": {
          "base_uri": "https://localhost:8080/"
        },
        "id": "i7J9p5zbHSGr",
        "outputId": "02b91218-044d-4040-b8f1-7c953cb2db3c"
      },
      "source": [
        "print(x)"
      ],
      "execution_count": 29,
      "outputs": [
        {
          "output_type": "stream",
          "text": [
            "[[1. 0. 0. 0.]\n",
            " [0. 1. 0. 0.]\n",
            " [0. 0. 1. 0.]\n",
            " [0. 0. 0. 1.]]\n"
          ],
          "name": "stdout"
        }
      ]
    },
    {
      "cell_type": "code",
      "metadata": {
        "id": "oFbltMcZHTk2"
      },
      "source": [
        "x=np.random.random(9)"
      ],
      "execution_count": 38,
      "outputs": []
    },
    {
      "cell_type": "code",
      "metadata": {
        "colab": {
          "base_uri": "https://localhost:8080/"
        },
        "id": "M9WAno_mHagL",
        "outputId": "e19a606a-134f-4c54-a7c5-ae481dc38e01"
      },
      "source": [
        "print(x)"
      ],
      "execution_count": 39,
      "outputs": [
        {
          "output_type": "stream",
          "text": [
            "[0.48797365 0.42220124 0.27274943 0.29912574 0.55092776 0.49344714\n",
            " 0.62245987 0.60948175 0.36230124]\n"
          ],
          "name": "stdout"
        }
      ]
    },
    {
      "cell_type": "code",
      "metadata": {
        "colab": {
          "base_uri": "https://localhost:8080/"
        },
        "id": "sFsxpbSSHbr8",
        "outputId": "8d26826a-4cca-4f19-bb5a-0b0a16eda3ae"
      },
      "source": [
        "z=x.T   #transpose\n",
        "print(z)"
      ],
      "execution_count": 34,
      "outputs": [
        {
          "output_type": "stream",
          "text": [
            "[0.56616816 0.28264858 0.54395919 0.5657093  0.39200618 0.31705518\n",
            " 0.46050119 0.04169445 0.97329897 0.37535128 0.72915288 0.64444364\n",
            " 0.34350474 0.72300992 0.08473923 0.58466301]\n"
          ],
          "name": "stdout"
        }
      ]
    },
    {
      "cell_type": "code",
      "metadata": {
        "id": "bjl6JlgnHhzb"
      },
      "source": [
        "y=x.reshape(2,-1) #reshaping"
      ],
      "execution_count": 35,
      "outputs": []
    },
    {
      "cell_type": "code",
      "metadata": {
        "colab": {
          "base_uri": "https://localhost:8080/"
        },
        "id": "Ogo0EMhAHoJL",
        "outputId": "ec368308-1501-4098-c7b8-ffe78b5e747c"
      },
      "source": [
        "print(y)"
      ],
      "execution_count": 36,
      "outputs": [
        {
          "output_type": "stream",
          "text": [
            "[[0.56616816 0.28264858 0.54395919 0.5657093  0.39200618 0.31705518\n",
            "  0.46050119 0.04169445]\n",
            " [0.97329897 0.37535128 0.72915288 0.64444364 0.34350474 0.72300992\n",
            "  0.08473923 0.58466301]]\n"
          ],
          "name": "stdout"
        }
      ]
    },
    {
      "cell_type": "markdown",
      "metadata": {
        "id": "956_kDyIH_7F"
      },
      "source": [
        "####One Matrix"
      ]
    },
    {
      "cell_type": "code",
      "metadata": {
        "colab": {
          "base_uri": "https://localhost:8080/"
        },
        "id": "81DrJ9rLHpp-",
        "outputId": "76fb69ac-51d3-4055-a596-356ae2284863"
      },
      "source": [
        "a=np.ones((2,3))\n",
        "print(a)"
      ],
      "execution_count": 37,
      "outputs": [
        {
          "output_type": "stream",
          "text": [
            "[[1. 1. 1.]\n",
            " [1. 1. 1.]]\n"
          ],
          "name": "stdout"
        }
      ]
    },
    {
      "cell_type": "code",
      "metadata": {
        "colab": {
          "base_uri": "https://localhost:8080/"
        },
        "id": "3sJ3PF3EHxUu",
        "outputId": "185b74b4-945f-4b1f-e982-62c1a9e2609a"
      },
      "source": [
        "b=np.ones((3,2))\n",
        "print(np.dot(a,b))"
      ],
      "execution_count": 41,
      "outputs": [
        {
          "output_type": "stream",
          "text": [
            "[[3. 3.]\n",
            " [3. 3.]]\n"
          ],
          "name": "stdout"
        }
      ]
    },
    {
      "cell_type": "code",
      "metadata": {
        "colab": {
          "base_uri": "https://localhost:8080/"
        },
        "id": "-SMO8p8OIIoH",
        "outputId": "3a1219b7-6c05-493a-cbc9-30fa107761a7"
      },
      "source": [
        "print(np.dot(a.T,b.T))"
      ],
      "execution_count": 42,
      "outputs": [
        {
          "output_type": "stream",
          "text": [
            "[[2. 2. 2.]\n",
            " [2. 2. 2.]\n",
            " [2. 2. 2.]]\n"
          ],
          "name": "stdout"
        }
      ]
    },
    {
      "cell_type": "markdown",
      "metadata": {
        "id": "HXqr59TxIb5g"
      },
      "source": [
        "####Sum"
      ]
    },
    {
      "cell_type": "code",
      "metadata": {
        "colab": {
          "base_uri": "https://localhost:8080/"
        },
        "id": "N8k3Y93-IWNb",
        "outputId": "d2804dea-a86e-41c0-d2df-e5884150cc0f"
      },
      "source": [
        "a.T.sum()"
      ],
      "execution_count": 43,
      "outputs": [
        {
          "output_type": "execute_result",
          "data": {
            "text/plain": [
              "6.0"
            ]
          },
          "metadata": {
            "tags": []
          },
          "execution_count": 43
        }
      ]
    },
    {
      "cell_type": "code",
      "metadata": {
        "colab": {
          "base_uri": "https://localhost:8080/"
        },
        "id": "b9VEzPc-IYBj",
        "outputId": "67b42789-99b7-492d-a249-970152fb1216"
      },
      "source": [
        "a.sum(axis=0)  column=0,row=1"
      ],
      "execution_count": 44,
      "outputs": [
        {
          "output_type": "execute_result",
          "data": {
            "text/plain": [
              "array([3., 3.])"
            ]
          },
          "metadata": {
            "tags": []
          },
          "execution_count": 44
        }
      ]
    },
    {
      "cell_type": "code",
      "metadata": {
        "colab": {
          "base_uri": "https://localhost:8080/"
        },
        "id": "MvnLA0SSIgQ4",
        "outputId": "f1f3e105-72c7-4207-bd16-47b0f37c85b9"
      },
      "source": [
        "a.max()"
      ],
      "execution_count": 46,
      "outputs": [
        {
          "output_type": "execute_result",
          "data": {
            "text/plain": [
              "1.0"
            ]
          },
          "metadata": {
            "tags": []
          },
          "execution_count": 46
        }
      ]
    },
    {
      "cell_type": "markdown",
      "metadata": {
        "id": "9TzwM_qDIx4Q"
      },
      "source": [
        "##Plotting\n",
        "- Plotting the given data to get the required results.\n"
      ]
    },
    {
      "cell_type": "code",
      "metadata": {
        "id": "hvt1k2CxIrib"
      },
      "source": [
        "import matplotlib.pyplot as plt\n",
        "#visualization"
      ],
      "execution_count": 47,
      "outputs": []
    },
    {
      "cell_type": "code",
      "metadata": {
        "id": "c2Rvn7M2JWwY"
      },
      "source": [
        "x=np.random.random((10,2))"
      ],
      "execution_count": 48,
      "outputs": []
    },
    {
      "cell_type": "code",
      "metadata": {
        "colab": {
          "base_uri": "https://localhost:8080/"
        },
        "id": "AWvYI_KNJbbw",
        "outputId": "09e3f80c-b697-429c-c0c9-03ed1557e5a8"
      },
      "source": [
        "print(x)"
      ],
      "execution_count": 55,
      "outputs": [
        {
          "output_type": "stream",
          "text": [
            "[[0.1965193  0.55793972]\n",
            " [0.50774036 0.95199639]\n",
            " [0.47030793 0.47971212]\n",
            " [0.71856797 0.30261126]\n",
            " [0.13810945 0.15578997]\n",
            " [0.425368   0.5165033 ]\n",
            " [0.41382041 0.69336445]\n",
            " [0.11323576 0.21637931]\n",
            " [0.94457423 0.31454193]\n",
            " [0.59497814 0.76448759]]\n"
          ],
          "name": "stdout"
        }
      ]
    },
    {
      "cell_type": "code",
      "metadata": {
        "colab": {
          "base_uri": "https://localhost:8080/",
          "height": 279
        },
        "id": "CahUdCcWJc7m",
        "outputId": "fac7e506-2d73-477f-82bb-f20fbb3fb765"
      },
      "source": [
        "plt.plot(x,'*-')\n",
        "plt.xlabel(\"x this\")\n",
        "plt.ylabel(\"0.1s\")\n",
        "plt.show()"
      ],
      "execution_count": 58,
      "outputs": [
        {
          "output_type": "display_data",
          "data": {
            "image/png": "[encoded data removed]",
            "text/plain": [
              "<Figure size 432x288 with 1 Axes>"
            ]
          },
          "metadata": {
            "tags": [],
            "needs_background": "light"
          }
        }
      ]
    },
    {
      "cell_type": "code",
      "metadata": {
        "colab": {
          "base_uri": "https://localhost:8080/"
        },
        "id": "46wcg_z2Jm8F",
        "outputId": "7e18538f-a06c-4eac-d123-9d3552cc81bf"
      },
      "source": [
        "x=np.linspace(0,100,50)   #start,stop, num\n",
        "print(x)"
      ],
      "execution_count": 60,
      "outputs": [
        {
          "output_type": "stream",
          "text": [
            "[  0.           2.04081633   4.08163265   6.12244898   8.16326531\n",
            "  10.20408163  12.24489796  14.28571429  16.32653061  18.36734694\n",
            "  20.40816327  22.44897959  24.48979592  26.53061224  28.57142857\n",
            "  30.6122449   32.65306122  34.69387755  36.73469388  38.7755102\n",
            "  40.81632653  42.85714286  44.89795918  46.93877551  48.97959184\n",
            "  51.02040816  53.06122449  55.10204082  57.14285714  59.18367347\n",
            "  61.2244898   63.26530612  65.30612245  67.34693878  69.3877551\n",
            "  71.42857143  73.46938776  75.51020408  77.55102041  79.59183673\n",
            "  81.63265306  83.67346939  85.71428571  87.75510204  89.79591837\n",
            "  91.83673469  93.87755102  95.91836735  97.95918367 100.        ]\n"
          ],
          "name": "stdout"
        }
      ]
    },
    {
      "cell_type": "code",
      "metadata": {
        "id": "NgUhjNhzKAAz"
      },
      "source": [
        "np.linspace?"
      ],
      "execution_count": 62,
      "outputs": []
    },
    {
      "cell_type": "code",
      "metadata": {
        "colab": {
          "base_uri": "https://localhost:8080/",
          "height": 279
        },
        "id": "bmSV4wXVKI5K",
        "outputId": "2eb43156-d02e-4f8e-9ff9-19048673e887"
      },
      "source": [
        "y=np.power(x,2)\n",
        "plt.plot(x,y,\"*\")\n",
        "plt.xlabel(\"X-Axis\")\n",
        "plt.ylabel(\"Y-Axis\")\n",
        "plt.show()"
      ],
      "execution_count": 63,
      "outputs": [
        {
          "output_type": "display_data",
          "data": {
            "image/png": "[encoded data removed]",
            "text/plain": [
              "<Figure size 432x288 with 1 Axes>"
            ]
          },
          "metadata": {
            "tags": [],
            "needs_background": "light"
          }
        }
      ]
    },
    {
      "cell_type": "markdown",
      "metadata": {
        "id": "xz-nDx61Ldwi"
      },
      "source": [
        "###Seaborn"
      ]
    },
    {
      "cell_type": "code",
      "metadata": {
        "colab": {
          "base_uri": "https://localhost:8080/",
          "height": 323
        },
        "id": "y9I-hBkYKlob",
        "outputId": "f6156cd0-6d2f-4381-dd55-6c7cedbf3316"
      },
      "source": [
        "import seaborn as sns #stastical data visyalization\n",
        "sns.set\n",
        "sns.lineplot(x,y)\n",
        "plt.show()"
      ],
      "execution_count": 65,
      "outputs": [
        {
          "output_type": "stream",
          "text": [
            "/usr/local/lib/python3.7/dist-packages/seaborn/_decorators.py:43: FutureWarning: Pass the following variables as keyword args: x, y. From version 0.12, the only valid positional argument will be `data`, and passing other arguments without an explicit keyword will result in an error or misinterpretation.\n",
            "  FutureWarning\n"
          ],
          "name": "stderr"
        },
        {
          "output_type": "display_data",
          "data": {
            "image/png": "[encoded data removed]",
            "text/plain": [
              "<Figure size 432x288 with 1 Axes>"
            ]
          },
          "metadata": {
            "tags": [],
            "needs_background": "light"
          }
        }
      ]
    },
    {
      "cell_type": "markdown",
      "metadata": {
        "id": "6w_hOrM8LhIO"
      },
      "source": [
        "###Pandas"
      ]
    },
    {
      "cell_type": "code",
      "metadata": {
        "id": "E6kCAbRmKxRz"
      },
      "source": [
        "import pandas as pd #data processing\n",
        "xyz=pd.read_csv(\"/content/mtcars.csv\")\n"
      ],
      "execution_count": 66,
      "outputs": []
    },
    {
      "cell_type": "code",
      "metadata": {
        "colab": {
          "base_uri": "https://localhost:8080/",
          "height": 306
        },
        "id": "ax4zNhZMLSCS",
        "outputId": "80afa297-9b5a-41ef-f79c-b3ca6103f129"
      },
      "source": [
        "xyz.head()"
      ],
      "execution_count": 67,
      "outputs": [
        {
          "output_type": "execute_result",
          "data": {
            "text/html": [
              "<div>\n",
              "<style scoped>\n",
              "    .dataframe tbody tr th:only-of-type {\n",
              "        vertical-align: middle;\n",
              "    }\n",
              "\n",
              "    .dataframe tbody tr th {\n",
              "        vertical-align: top;\n",
              "    }\n",
              "\n",
              "    .dataframe thead th {\n",
              "        text-align: right;\n",
              "    }\n",
              "</style>\n",
              "<table border=\"1\" class=\"dataframe\">\n",
              "  <thead>\n",
              "    <tr style=\"text-align: right;\">\n",
              "      <th></th>\n",
              "      <th>model</th>\n",
              "      <th>mpg</th>\n",
              "      <th>cyl</th>\n",
              "      <th>disp</th>\n",
              "      <th>hp</th>\n",
              "      <th>drat</th>\n",
              "      <th>wt</th>\n",
              "      <th>qsec</th>\n",
              "      <th>vs</th>\n",
              "      <th>am</th>\n",
              "      <th>gear</th>\n",
              "      <th>carb</th>\n",
              "    </tr>\n",
              "  </thead>\n",
              "  <tbody>\n",
              "    <tr>\n",
              "      <th>0</th>\n",
              "      <td>Mazda RX4</td>\n",
              "      <td>21.0</td>\n",
              "      <td>6</td>\n",
              "      <td>160.0</td>\n",
              "      <td>110</td>\n",
              "      <td>3.90</td>\n",
              "      <td>2.620</td>\n",
              "      <td>16.46</td>\n",
              "      <td>0</td>\n",
              "      <td>1</td>\n",
              "      <td>4</td>\n",
              "      <td>4</td>\n",
              "    </tr>\n",
              "    <tr>\n",
              "      <th>1</th>\n",
              "      <td>Mazda RX4 Wag</td>\n",
              "      <td>21.0</td>\n",
              "      <td>6</td>\n",
              "      <td>160.0</td>\n",
              "      <td>110</td>\n",
              "      <td>3.90</td>\n",
              "      <td>2.875</td>\n",
              "      <td>17.02</td>\n",
              "      <td>0</td>\n",
              "      <td>1</td>\n",
              "      <td>4</td>\n",
              "      <td>4</td>\n",
              "    </tr>\n",
              "    <tr>\n",
              "      <th>2</th>\n",
              "      <td>Datsun 710</td>\n",
              "      <td>22.8</td>\n",
              "      <td>4</td>\n",
              "      <td>108.0</td>\n",
              "      <td>93</td>\n",
              "      <td>3.85</td>\n",
              "      <td>2.320</td>\n",
              "      <td>18.61</td>\n",
              "      <td>1</td>\n",
              "      <td>1</td>\n",
              "      <td>4</td>\n",
              "      <td>1</td>\n",
              "    </tr>\n",
              "    <tr>\n",
              "      <th>3</th>\n",
              "      <td>Hornet 4 Drive</td>\n",
              "      <td>21.4</td>\n",
              "      <td>6</td>\n",
              "      <td>258.0</td>\n",
              "      <td>110</td>\n",
              "      <td>3.08</td>\n",
              "      <td>3.215</td>\n",
              "      <td>19.44</td>\n",
              "      <td>1</td>\n",
              "      <td>0</td>\n",
              "      <td>3</td>\n",
              "      <td>1</td>\n",
              "    </tr>\n",
              "    <tr>\n",
              "      <th>4</th>\n",
              "      <td>Hornet Sportabout</td>\n",
              "      <td>18.7</td>\n",
              "      <td>8</td>\n",
              "      <td>360.0</td>\n",
              "      <td>175</td>\n",
              "      <td>3.15</td>\n",
              "      <td>3.440</td>\n",
              "      <td>17.02</td>\n",
              "      <td>0</td>\n",
              "      <td>0</td>\n",
              "      <td>3</td>\n",
              "      <td>2</td>\n",
              "    </tr>\n",
              "  </tbody>\n",
              "</table>\n",
              "</div>"
            ],
            "text/plain": [
              "               model   mpg  cyl   disp   hp  ...   qsec  vs  am  gear  carb\n",
              "0          Mazda RX4  21.0    6  160.0  110  ...  16.46   0   1     4     4\n",
              "1      Mazda RX4 Wag  21.0    6  160.0  110  ...  17.02   0   1     4     4\n",
              "2         Datsun 710  22.8    4  108.0   93  ...  18.61   1   1     4     1\n",
              "3     Hornet 4 Drive  21.4    6  258.0  110  ...  19.44   1   0     3     1\n",
              "4  Hornet Sportabout  18.7    8  360.0  175  ...  17.02   0   0     3     2\n",
              "\n",
              "[5 rows x 12 columns]"
            ]
          },
          "metadata": {
            "tags": []
          },
          "execution_count": 67
        }
      ]
    },
    {
      "cell_type": "code",
      "metadata": {
        "colab": {
          "base_uri": "https://localhost:8080/",
          "height": 323
        },
        "id": "uK9XLQdLLUVk",
        "outputId": "92036097-9db7-483c-8692-6785e91e498c"
      },
      "source": [
        "xyz.tail()"
      ],
      "execution_count": 68,
      "outputs": [
        {
          "output_type": "execute_result",
          "data": {
            "text/html": [
              "<div>\n",
              "<style scoped>\n",
              "    .dataframe tbody tr th:only-of-type {\n",
              "        vertical-align: middle;\n",
              "    }\n",
              "\n",
              "    .dataframe tbody tr th {\n",
              "        vertical-align: top;\n",
              "    }\n",
              "\n",
              "    .dataframe thead th {\n",
              "        text-align: right;\n",
              "    }\n",
              "</style>\n",
              "<table border=\"1\" class=\"dataframe\">\n",
              "  <thead>\n",
              "    <tr style=\"text-align: right;\">\n",
              "      <th></th>\n",
              "      <th>model</th>\n",
              "      <th>mpg</th>\n",
              "      <th>cyl</th>\n",
              "      <th>disp</th>\n",
              "      <th>hp</th>\n",
              "      <th>drat</th>\n",
              "      <th>wt</th>\n",
              "      <th>qsec</th>\n",
              "      <th>vs</th>\n",
              "      <th>am</th>\n",
              "      <th>gear</th>\n",
              "      <th>carb</th>\n",
              "    </tr>\n",
              "  </thead>\n",
              "  <tbody>\n",
              "    <tr>\n",
              "      <th>27</th>\n",
              "      <td>Lotus Europa</td>\n",
              "      <td>30.4</td>\n",
              "      <td>4</td>\n",
              "      <td>95.1</td>\n",
              "      <td>113</td>\n",
              "      <td>3.77</td>\n",
              "      <td>1.513</td>\n",
              "      <td>16.9</td>\n",
              "      <td>1</td>\n",
              "      <td>1</td>\n",
              "      <td>5</td>\n",
              "      <td>2</td>\n",
              "    </tr>\n",
              "    <tr>\n",
              "      <th>28</th>\n",
              "      <td>Ford Pantera L</td>\n",
              "      <td>15.8</td>\n",
              "      <td>8</td>\n",
              "      <td>351.0</td>\n",
              "      <td>264</td>\n",
              "      <td>4.22</td>\n",
              "      <td>3.170</td>\n",
              "      <td>14.5</td>\n",
              "      <td>0</td>\n",
              "      <td>1</td>\n",
              "      <td>5</td>\n",
              "      <td>4</td>\n",
              "    </tr>\n",
              "    <tr>\n",
              "      <th>29</th>\n",
              "      <td>Ferrari Dino</td>\n",
              "      <td>19.7</td>\n",
              "      <td>6</td>\n",
              "      <td>145.0</td>\n",
              "      <td>175</td>\n",
              "      <td>3.62</td>\n",
              "      <td>2.770</td>\n",
              "      <td>15.5</td>\n",
              "      <td>0</td>\n",
              "      <td>1</td>\n",
              "      <td>5</td>\n",
              "      <td>6</td>\n",
              "    </tr>\n",
              "    <tr>\n",
              "      <th>30</th>\n",
              "      <td>Maserati Bora</td>\n",
              "      <td>15.0</td>\n",
              "      <td>8</td>\n",
              "      <td>301.0</td>\n",
              "      <td>335</td>\n",
              "      <td>3.54</td>\n",
              "      <td>3.570</td>\n",
              "      <td>14.6</td>\n",
              "      <td>0</td>\n",
              "      <td>1</td>\n",
              "      <td>5</td>\n",
              "      <td>8</td>\n",
              "    </tr>\n",
              "    <tr>\n",
              "      <th>31</th>\n",
              "      <td>Volvo 142E</td>\n",
              "      <td>21.4</td>\n",
              "      <td>4</td>\n",
              "      <td>121.0</td>\n",
              "      <td>109</td>\n",
              "      <td>4.11</td>\n",
              "      <td>2.780</td>\n",
              "      <td>18.6</td>\n",
              "      <td>1</td>\n",
              "      <td>1</td>\n",
              "      <td>4</td>\n",
              "      <td>2</td>\n",
              "    </tr>\n",
              "  </tbody>\n",
              "</table>\n",
              "</div>"
            ],
            "text/plain": [
              "             model   mpg  cyl   disp   hp  ...  qsec  vs  am  gear  carb\n",
              "27    Lotus Europa  30.4    4   95.1  113  ...  16.9   1   1     5     2\n",
              "28  Ford Pantera L  15.8    8  351.0  264  ...  14.5   0   1     5     4\n",
              "29    Ferrari Dino  19.7    6  145.0  175  ...  15.5   0   1     5     6\n",
              "30   Maserati Bora  15.0    8  301.0  335  ...  14.6   0   1     5     8\n",
              "31      Volvo 142E  21.4    4  121.0  109  ...  18.6   1   1     4     2\n",
              "\n",
              "[5 rows x 12 columns]"
            ]
          },
          "metadata": {
            "tags": []
          },
          "execution_count": 68
        }
      ]
    },
    {
      "cell_type": "code",
      "metadata": {
        "colab": {
          "base_uri": "https://localhost:8080/",
          "height": 763
        },
        "id": "r8cOcMDKLk4J",
        "outputId": "1fc49085-dcd3-410e-d29b-b217fcdb1a03"
      },
      "source": [
        "xyz[0]"
      ],
      "execution_count": 74,
      "outputs": [
        {
          "output_type": "error",
          "ename": "KeyError",
          "evalue": "ignored",
          "traceback": [
            "\u001b[0;31m---------------------------------------------------------------------------\u001b[0m",
            "\u001b[0;31mKeyError\u001b[0m                                  Traceback (most recent call last)",
            "\u001b[0;32m/usr/local/lib/python3.7/dist-packages/pandas/core/indexes/base.py\u001b[0m in \u001b[0;36mget_loc\u001b[0;34m(self, key, method, tolerance)\u001b[0m\n\u001b[1;32m   2897\u001b[0m             \u001b[0;32mtry\u001b[0m\u001b[0;34m:\u001b[0m\u001b[0;34m\u001b[0m\u001b[0;34m\u001b[0m\u001b[0m\n\u001b[0;32m-> 2898\u001b[0;31m                 \u001b[0;32mreturn\u001b[0m \u001b[0mself\u001b[0m\u001b[0;34m.\u001b[0m\u001b[0m_engine\u001b[0m\u001b[0;34m.\u001b[0m\u001b[0mget_loc\u001b[0m\u001b[0;34m(\u001b[0m\u001b[0mcasted_key\u001b[0m\u001b[0;34m)\u001b[0m\u001b[0;34m\u001b[0m\u001b[0;34m\u001b[0m\u001b[0m\n\u001b[0m\u001b[1;32m   2899\u001b[0m             \u001b[0;32mexcept\u001b[0m \u001b[0mKeyError\u001b[0m \u001b[0;32mas\u001b[0m \u001b[0merr\u001b[0m\u001b[0;34m:\u001b[0m\u001b[0;34m\u001b[0m\u001b[0;34m\u001b[0m\u001b[0m\n",
            "\u001b[0;32mpandas/_libs/index.pyx\u001b[0m in \u001b[0;36mpandas._libs.index.IndexEngine.get_loc\u001b[0;34m()\u001b[0m\n",
            "\u001b[0;32mpandas/_libs/index.pyx\u001b[0m in \u001b[0;36mpandas._libs.index.IndexEngine.get_loc\u001b[0;34m()\u001b[0m\n",
            "\u001b[0;32mpandas/_libs/hashtable_class_helper.pxi\u001b[0m in \u001b[0;36mpandas._libs.hashtable.PyObjectHashTable.get_item\u001b[0;34m()\u001b[0m\n",
            "\u001b[0;32mpandas/_libs/hashtable_class_helper.pxi\u001b[0m in \u001b[0;36mpandas._libs.hashtable.PyObjectHashTable.get_item\u001b[0;34m()\u001b[0m\n",
            "\u001b[0;31mKeyError\u001b[0m: 0",
            "\nThe above exception was the direct cause of the following exception:\n",
            "\u001b[0;31mKeyError\u001b[0m                                  Traceback (most recent call last)",
            "\u001b[0;32m<ipython-input-74-c555fef91613>\u001b[0m in \u001b[0;36m<module>\u001b[0;34m()\u001b[0m\n\u001b[0;32m----> 1\u001b[0;31m \u001b[0mxyz\u001b[0m\u001b[0;34m[\u001b[0m\u001b[0;36m0\u001b[0m\u001b[0;34m]\u001b[0m\u001b[0;34m\u001b[0m\u001b[0;34m\u001b[0m\u001b[0m\n\u001b[0m",
            "\u001b[0;32m/usr/local/lib/python3.7/dist-packages/pandas/core/frame.py\u001b[0m in \u001b[0;36m__getitem__\u001b[0;34m(self, key)\u001b[0m\n\u001b[1;32m   2904\u001b[0m             \u001b[0;32mif\u001b[0m \u001b[0mself\u001b[0m\u001b[0;34m.\u001b[0m\u001b[0mcolumns\u001b[0m\u001b[0;34m.\u001b[0m\u001b[0mnlevels\u001b[0m \u001b[0;34m>\u001b[0m \u001b[0;36m1\u001b[0m\u001b[0;34m:\u001b[0m\u001b[0;34m\u001b[0m\u001b[0;34m\u001b[0m\u001b[0m\n\u001b[1;32m   2905\u001b[0m                 \u001b[0;32mreturn\u001b[0m \u001b[0mself\u001b[0m\u001b[0;34m.\u001b[0m\u001b[0m_getitem_multilevel\u001b[0m\u001b[0;34m(\u001b[0m\u001b[0mkey\u001b[0m\u001b[0;34m)\u001b[0m\u001b[0;34m\u001b[0m\u001b[0;34m\u001b[0m\u001b[0m\n\u001b[0;32m-> 2906\u001b[0;31m             \u001b[0mindexer\u001b[0m \u001b[0;34m=\u001b[0m \u001b[0mself\u001b[0m\u001b[0;34m.\u001b[0m\u001b[0mcolumns\u001b[0m\u001b[0;34m.\u001b[0m\u001b[0mget_loc\u001b[0m\u001b[0;34m(\u001b[0m\u001b[0mkey\u001b[0m\u001b[0;34m)\u001b[0m\u001b[0;34m\u001b[0m\u001b[0;34m\u001b[0m\u001b[0m\n\u001b[0m\u001b[1;32m   2907\u001b[0m             \u001b[0;32mif\u001b[0m \u001b[0mis_integer\u001b[0m\u001b[0;34m(\u001b[0m\u001b[0mindexer\u001b[0m\u001b[0;34m)\u001b[0m\u001b[0;34m:\u001b[0m\u001b[0;34m\u001b[0m\u001b[0;34m\u001b[0m\u001b[0m\n\u001b[1;32m   2908\u001b[0m                 \u001b[0mindexer\u001b[0m \u001b[0;34m=\u001b[0m \u001b[0;34m[\u001b[0m\u001b[0mindexer\u001b[0m\u001b[0;34m]\u001b[0m\u001b[0;34m\u001b[0m\u001b[0;34m\u001b[0m\u001b[0m\n",
            "\u001b[0;32m/usr/local/lib/python3.7/dist-packages/pandas/core/indexes/base.py\u001b[0m in \u001b[0;36mget_loc\u001b[0;34m(self, key, method, tolerance)\u001b[0m\n\u001b[1;32m   2898\u001b[0m                 \u001b[0;32mreturn\u001b[0m \u001b[0mself\u001b[0m\u001b[0;34m.\u001b[0m\u001b[0m_engine\u001b[0m\u001b[0;34m.\u001b[0m\u001b[0mget_loc\u001b[0m\u001b[0;34m(\u001b[0m\u001b[0mcasted_key\u001b[0m\u001b[0;34m)\u001b[0m\u001b[0;34m\u001b[0m\u001b[0;34m\u001b[0m\u001b[0m\n\u001b[1;32m   2899\u001b[0m             \u001b[0;32mexcept\u001b[0m \u001b[0mKeyError\u001b[0m \u001b[0;32mas\u001b[0m \u001b[0merr\u001b[0m\u001b[0;34m:\u001b[0m\u001b[0;34m\u001b[0m\u001b[0;34m\u001b[0m\u001b[0m\n\u001b[0;32m-> 2900\u001b[0;31m                 \u001b[0;32mraise\u001b[0m \u001b[0mKeyError\u001b[0m\u001b[0;34m(\u001b[0m\u001b[0mkey\u001b[0m\u001b[0;34m)\u001b[0m \u001b[0;32mfrom\u001b[0m \u001b[0merr\u001b[0m\u001b[0;34m\u001b[0m\u001b[0;34m\u001b[0m\u001b[0m\n\u001b[0m\u001b[1;32m   2901\u001b[0m \u001b[0;34m\u001b[0m\u001b[0m\n\u001b[1;32m   2902\u001b[0m         \u001b[0;32mif\u001b[0m \u001b[0mtolerance\u001b[0m \u001b[0;32mis\u001b[0m \u001b[0;32mnot\u001b[0m \u001b[0;32mNone\u001b[0m\u001b[0;34m:\u001b[0m\u001b[0;34m\u001b[0m\u001b[0;34m\u001b[0m\u001b[0m\n",
            "\u001b[0;31mKeyError\u001b[0m: 0"
          ]
        }
      ]
    },
    {
      "cell_type": "markdown",
      "metadata": {
        "id": "6QCuQ17nPK4F"
      },
      "source": [
        "##NEURON IN DL\n",
        "- Basics in Soft Computing \n",
        "- \n"
      ]
    },
    {
      "cell_type": "code",
      "metadata": {
        "id": "oWfKP2X9LzDW"
      },
      "source": [
        ""
      ],
      "execution_count": null,
      "outputs": []
    }
  ]
}