{
  "nbformat": 4,
  "nbformat_minor": 0,
  "metadata": {
    "colab": {
      "name": "Practice_1.ipynb",
      "provenance": [],
      "collapsed_sections": [],
      "toc_visible": true,
      "authorship_tag": "ABX9TyMIf1PUprW/FwR0QfZ6Rd6b",
      "include_colab_link": true
    },
    "kernelspec": {
      "name": "python3",
      "display_name": "Python 3"
    },
    "language_info": {
      "name": "python"
    }
  },
  "cells": [
    {
      "cell_type": "markdown",
      "metadata": {
        "id": "view-in-github",
        "colab_type": "text"
      },
      "source": [
        "<a href=\"https://colab.research.google.com/github/Careless-Caramel/Practice_1/blob/main/Practice_1.ipynb\" target=\"_parent\"><img src=\"https://colab.research.google.com/assets/colab-badge.svg\" alt=\"Open In Colab\"/></a>"
      ]
    },
    {
      "cell_type": "code",
      "metadata": {
        "colab": {
          "base_uri": "https://localhost:8080/"
        },
        "id": "8uExOwevMTgv",
        "outputId": "ec8fc392-5653-4956-c089-ddd0748f480b"
      },
      "source": [
        "from google.colab import drive\n",
        "drive.mount(\"/content/gdrive\")"
      ],
      "execution_count": 8,
      "outputs": [
        {
          "output_type": "stream",
          "name": "stdout",
          "text": [
            "Drive already mounted at /content/gdrive; to attempt to forcibly remount, call drive.mount(\"/content/gdrive\", force_remount=True).\n"
          ]
        }
      ]
    },
    {
      "cell_type": "code",
      "metadata": {
        "colab": {
          "base_uri": "https://localhost:8080/"
        },
        "id": "wT1xlblXMuAl",
        "outputId": "11d71234-b5ae-4623-8b61-acc2b464b6d3"
      },
      "source": [
        "!ls"
      ],
      "execution_count": 9,
      "outputs": [
        {
          "output_type": "stream",
          "name": "stdout",
          "text": [
            "gdrive\tsample_data\n"
          ]
        }
      ]
    },
    {
      "cell_type": "code",
      "metadata": {
        "colab": {
          "base_uri": "https://localhost:8080/"
        },
        "id": "T6B63OXDMwSE",
        "outputId": "2c62616d-f613-420c-b839-768dd06d812c"
      },
      "source": [
        "%cd gdrive/My Drive/project_1"
      ],
      "execution_count": 10,
      "outputs": [
        {
          "output_type": "stream",
          "name": "stdout",
          "text": [
            "/content/gdrive/My Drive/project_1\n"
          ]
        }
      ]
    },
    {
      "cell_type": "code",
      "metadata": {
        "colab": {
          "base_uri": "https://localhost:8080/"
        },
        "id": "zTObNEX9NGWY",
        "outputId": "4db3ce94-0d3a-49aa-fee2-b8cdd25eecc6"
      },
      "source": [
        "!git clone https://github.com/Careless-Caramel/NewRepo"
      ],
      "execution_count": 11,
      "outputs": [
        {
          "output_type": "stream",
          "name": "stdout",
          "text": [
            "Cloning into 'NewRepo'...\n",
            "fatal: could not read Username for 'https://github.com': No such device or address\n"
          ]
        }
      ]
    },
    {
      "cell_type": "code",
      "metadata": {
        "colab": {
          "base_uri": "https://localhost:8080/"
        },
        "id": "pfwVxk1fNOkL",
        "outputId": "66351dcd-e464-4f87-81b6-af9f2bc8e52a"
      },
      "source": [
        "!git pull"
      ],
      "execution_count": 12,
      "outputs": [
        {
          "output_type": "stream",
          "name": "stdout",
          "text": [
            "fatal: not a git repository (or any parent up to mount point /content)\n",
            "Stopping at filesystem boundary (GIT_DISCOVERY_ACROSS_FILESYSTEM not set).\n"
          ]
        }
      ]
    },
    {
      "cell_type": "markdown",
      "metadata": {
        "id": "RmnyjtRB2JlQ"
      },
      "source": [
        "#**Exploratory Data Analysis**\n",
        "\n",
        "* Exploratory Data Analysis or (EDA) is understanding the data sets by \n",
        "summarizing their main characteristics often plotting them visually. \n",
        "* This step is very important especially when we arrive at modeling the data in order to apply Machine learning.\n",
        "* Plotting in EDA consists of Histograms, Box plot, Scatter plot and many more.\n",
        "* It often takes much time to explore the data. \n",
        "* Through the process of EDA, we can ask to define the problem statement or definition on our data set which is very important."
      ]
    },
    {
      "cell_type": "markdown",
      "metadata": {
        "id": "2pUXi6yZ3IuG"
      },
      "source": [
        "Let's get started .....\n",
        "\n",
        "\n",
        "---\n",
        "\n",
        "\n",
        "\n"
      ]
    },
    {
      "cell_type": "markdown",
      "metadata": {
        "id": "pejdi4hP3U03"
      },
      "source": [
        "##**Importing required libraries**"
      ]
    },
    {
      "cell_type": "code",
      "metadata": {
        "id": "ZBoq7c_93Tpt"
      },
      "source": [
        "import pandas as  pd\n",
        "import numpy as np\n",
        "import seaborn as sns \n",
        "import matplotlib.pyplot as plt\n",
        "%matplotlib inline\n",
        "sns.set(color_codes=True)\n",
        "from scipy.io.arff import loadarff "
      ],
      "execution_count": 13,
      "outputs": []
    },
    {
      "cell_type": "markdown",
      "metadata": {
        "id": "_uzS4V_V4sBH"
      },
      "source": [
        "##**Loading data**"
      ]
    },
    {
      "cell_type": "code",
      "metadata": {
        "id": "PPW2pE_00ezY",
        "colab": {
          "base_uri": "https://localhost:8080/",
          "height": 346
        },
        "outputId": "f0bbb371-5cbe-4756-b51b-e571ac3fd31c"
      },
      "source": [
        "raw_data_1year=loadarff(\"/content/1year.arff\")\n",
        "df_1year=pd.DataFrame(raw_data_1year[0])\n",
        "raw_data_2year=loadarff(\"/content/2year.arff\")\n",
        "df_2year=pd.DataFrame(raw_data_2year[0])\n",
        "raw_data_3year=loadarff(\"/content/3year.arff\")\n",
        "df_3year=pd.DataFrame(raw_data_3year[0])\n",
        "raw_data_4year=loadarff(\"/content/4year.arff\")\n",
        "df_4year=pd.DataFrame(raw_data_4year[0])\n",
        "raw_data_5year=loadarff(\"/content/5year.arff\")\n",
        "df_5year=pd.DataFrame(raw_data_5year[0])"
      ],
      "execution_count": 14,
      "outputs": [
        {
          "output_type": "error",
          "ename": "FileNotFoundError",
          "evalue": "ignored",
          "traceback": [
            "\u001b[0;31m---------------------------------------------------------------------------\u001b[0m",
            "\u001b[0;31mFileNotFoundError\u001b[0m                         Traceback (most recent call last)",
            "\u001b[0;32m<ipython-input-14-c78fb942fd39>\u001b[0m in \u001b[0;36m<module>\u001b[0;34m()\u001b[0m\n\u001b[0;32m----> 1\u001b[0;31m \u001b[0mraw_data_1year\u001b[0m\u001b[0;34m=\u001b[0m\u001b[0mloadarff\u001b[0m\u001b[0;34m(\u001b[0m\u001b[0;34m\"/content/1year.arff\"\u001b[0m\u001b[0;34m)\u001b[0m\u001b[0;34m\u001b[0m\u001b[0;34m\u001b[0m\u001b[0m\n\u001b[0m\u001b[1;32m      2\u001b[0m \u001b[0mdf_1year\u001b[0m\u001b[0;34m=\u001b[0m\u001b[0mpd\u001b[0m\u001b[0;34m.\u001b[0m\u001b[0mDataFrame\u001b[0m\u001b[0;34m(\u001b[0m\u001b[0mraw_data_1year\u001b[0m\u001b[0;34m[\u001b[0m\u001b[0;36m0\u001b[0m\u001b[0;34m]\u001b[0m\u001b[0;34m)\u001b[0m\u001b[0;34m\u001b[0m\u001b[0;34m\u001b[0m\u001b[0m\n\u001b[1;32m      3\u001b[0m \u001b[0mraw_data_2year\u001b[0m\u001b[0;34m=\u001b[0m\u001b[0mloadarff\u001b[0m\u001b[0;34m(\u001b[0m\u001b[0;34m\"/content/2year.arff\"\u001b[0m\u001b[0;34m)\u001b[0m\u001b[0;34m\u001b[0m\u001b[0;34m\u001b[0m\u001b[0m\n\u001b[1;32m      4\u001b[0m \u001b[0mdf_2year\u001b[0m\u001b[0;34m=\u001b[0m\u001b[0mpd\u001b[0m\u001b[0;34m.\u001b[0m\u001b[0mDataFrame\u001b[0m\u001b[0;34m(\u001b[0m\u001b[0mraw_data_2year\u001b[0m\u001b[0;34m[\u001b[0m\u001b[0;36m0\u001b[0m\u001b[0;34m]\u001b[0m\u001b[0;34m)\u001b[0m\u001b[0;34m\u001b[0m\u001b[0;34m\u001b[0m\u001b[0m\n\u001b[1;32m      5\u001b[0m \u001b[0mraw_data_3year\u001b[0m\u001b[0;34m=\u001b[0m\u001b[0mloadarff\u001b[0m\u001b[0;34m(\u001b[0m\u001b[0;34m\"/content/3year.arff\"\u001b[0m\u001b[0;34m)\u001b[0m\u001b[0;34m\u001b[0m\u001b[0;34m\u001b[0m\u001b[0m\n",
            "\u001b[0;32m/usr/local/lib/python3.7/dist-packages/scipy/io/arff/arffread.py\u001b[0m in \u001b[0;36mloadarff\u001b[0;34m(f)\u001b[0m\n\u001b[1;32m    801\u001b[0m         \u001b[0mofile\u001b[0m \u001b[0;34m=\u001b[0m \u001b[0mf\u001b[0m\u001b[0;34m\u001b[0m\u001b[0;34m\u001b[0m\u001b[0m\n\u001b[1;32m    802\u001b[0m     \u001b[0;32melse\u001b[0m\u001b[0;34m:\u001b[0m\u001b[0;34m\u001b[0m\u001b[0;34m\u001b[0m\u001b[0m\n\u001b[0;32m--> 803\u001b[0;31m         \u001b[0mofile\u001b[0m \u001b[0;34m=\u001b[0m \u001b[0mopen\u001b[0m\u001b[0;34m(\u001b[0m\u001b[0mf\u001b[0m\u001b[0;34m,\u001b[0m \u001b[0;34m'rt'\u001b[0m\u001b[0;34m)\u001b[0m\u001b[0;34m\u001b[0m\u001b[0;34m\u001b[0m\u001b[0m\n\u001b[0m\u001b[1;32m    804\u001b[0m     \u001b[0;32mtry\u001b[0m\u001b[0;34m:\u001b[0m\u001b[0;34m\u001b[0m\u001b[0;34m\u001b[0m\u001b[0m\n\u001b[1;32m    805\u001b[0m         \u001b[0;32mreturn\u001b[0m \u001b[0m_loadarff\u001b[0m\u001b[0;34m(\u001b[0m\u001b[0mofile\u001b[0m\u001b[0;34m)\u001b[0m\u001b[0;34m\u001b[0m\u001b[0;34m\u001b[0m\u001b[0m\n",
            "\u001b[0;31mFileNotFoundError\u001b[0m: [Errno 2] No such file or directory: '/content/1year.arff'"
          ]
        }
      ]
    },
    {
      "cell_type": "code",
      "metadata": {
        "id": "Tbu5r4Mw9yh7"
      },
      "source": [
        "df_1year"
      ],
      "execution_count": null,
      "outputs": []
    },
    {
      "cell_type": "markdown",
      "metadata": {
        "id": "w_3hCH2C8Wlq"
      },
      "source": [
        "##**Checking the type of the data**"
      ]
    },
    {
      "cell_type": "code",
      "metadata": {
        "id": "45OFFAZy6DuV"
      },
      "source": [
        "print(\"\\n1-Year Datatype : \\n\\n\",df_1year.dtypes)\n",
        "print(\"\\n2-Year Datatype : \\n\\n\",df_2year.dtypes)\n",
        "print(\"\\n3-Year Datatype : \\n\\n\",df_3year.dtypes)\n",
        "print(\"\\n4-Year Datatype : \\n\\n\",df_4year.dtypes)\n",
        "print(\"\\n5-Year Datatype : \\n\\n\",df_5year.dtypes)"
      ],
      "execution_count": null,
      "outputs": []
    },
    {
      "cell_type": "markdown",
      "metadata": {
        "id": "71e_FJs3-GhY"
      },
      "source": [
        "##Dropping duplicate rows"
      ]
    },
    {
      "cell_type": "code",
      "metadata": {
        "id": "yshSMo1_8uwo"
      },
      "source": [
        "# Total number of rows and columns\n",
        "print(\"Total number of rows and columns in year 1 : \",df_1year.shape)\n",
        "print(\"Total number of rows and columns in year 2 : \",df_2year.shape)\n",
        "print(\"Total number of rows and columns in year 3 : \",df_3year.shape)\n",
        "print(\"Total number of rows and columns in year 4 : \",df_4year.shape)\n",
        "print(\"Total number of rows and columns in year 5 : \",df_5year.shape)"
      ],
      "execution_count": null,
      "outputs": []
    },
    {
      "cell_type": "code",
      "metadata": {
        "id": "u1M-DEXj-Wjj"
      },
      "source": [
        "# Rows containing duplicate data\n",
        "duplicate_rows_df_1year=df_1year[df_1year.duplicated()]\n",
        "duplicate_rows_df_2year=df_2year[df_2year.duplicated()]\n",
        "duplicate_rows_df_3year=df_3year[df_3year.duplicated()]\n",
        "duplicate_rows_df_4year=df_4year[df_4year.duplicated()]\n",
        "duplicate_rows_df_5year=df_5year[df_5year.duplicated()]\n",
        "print(\"Number of duplicate rows in year 1 : \",duplicate_rows_df_1year.shape)\n",
        "print(\"Number of duplicate rows in year 2 : \",duplicate_rows_df_2year.shape)\n",
        "print(\"Number of duplicate rows in year 3 : \",duplicate_rows_df_3year.shape)\n",
        "print(\"Number of duplicate rows in year 4 : \",duplicate_rows_df_4year.shape)\n",
        "print(\"Number of duplicate rows in year 5 : \",duplicate_rows_df_5year.shape)"
      ],
      "execution_count": null,
      "outputs": []
    },
    {
      "cell_type": "code",
      "metadata": {
        "id": "dT2FQymG-gmE"
      },
      "source": [
        ""
      ],
      "execution_count": null,
      "outputs": []
    }
  ]
}